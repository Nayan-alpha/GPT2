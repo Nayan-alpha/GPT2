{
 "cells": [
  {
   "cell_type": "code",
   "execution_count": 6,
   "metadata": {},
   "outputs": [
    {
     "ename": "ModuleNotFoundError",
     "evalue": "No module named 'sacrebleu'",
     "output_type": "error",
     "traceback": [
      "\u001b[1;31m---------------------------------------------------------------------------\u001b[0m",
      "\u001b[1;31mModuleNotFoundError\u001b[0m                       Traceback (most recent call last)",
      "\u001b[1;32me:\\Medical\\GPT2-Chest-X-Ray-Report-Generation-master\\GPT2-Chest-X-Ray-Report-Generation-master\\Metrics.ipynb Cell 1\u001b[0m line \u001b[0;36m2\n\u001b[0;32m      <a href='vscode-notebook-cell:/e%3A/Medical/GPT2-Chest-X-Ray-Report-Generation-master/GPT2-Chest-X-Ray-Report-Generation-master/Metrics.ipynb#W0sZmlsZQ%3D%3D?line=0'>1</a>\u001b[0m \u001b[39mimport\u001b[39;00m \u001b[39mpandas\u001b[39;00m \u001b[39mas\u001b[39;00m \u001b[39mpd\u001b[39;00m\n\u001b[1;32m----> <a href='vscode-notebook-cell:/e%3A/Medical/GPT2-Chest-X-Ray-Report-Generation-master/GPT2-Chest-X-Ray-Report-Generation-master/Metrics.ipynb#W0sZmlsZQ%3D%3D?line=1'>2</a>\u001b[0m \u001b[39mimport\u001b[39;00m \u001b[39msacrebleu\u001b[39;00m\n",
      "\u001b[1;31mModuleNotFoundError\u001b[0m: No module named 'sacrebleu'"
     ]
    }
   ],
   "source": [
    "import pandas as pd\n",
    "import sacrebleu"
   ]
  },
  {
   "cell_type": "code",
   "execution_count": 5,
   "metadata": {},
   "outputs": [
    {
     "ename": "TypeError",
     "evalue": "Fraction.__new__() got an unexpected keyword argument '_normalize'",
     "output_type": "error",
     "traceback": [
      "\u001b[1;31m---------------------------------------------------------------------------\u001b[0m",
      "\u001b[1;31mTypeError\u001b[0m                                 Traceback (most recent call last)",
      "\u001b[1;32me:\\Medical\\GPT2-Chest-X-Ray-Report-Generation-master\\GPT2-Chest-X-Ray-Report-Generation-master\\Metrics.ipynb Cell 2\u001b[0m line \u001b[0;36m4\n\u001b[0;32m     <a href='vscode-notebook-cell:/e%3A/Medical/GPT2-Chest-X-Ray-Report-Generation-master/GPT2-Chest-X-Ray-Report-Generation-master/Metrics.ipynb#W1sZmlsZQ%3D%3D?line=37'>38</a>\u001b[0m df \u001b[39m=\u001b[39m pd\u001b[39m.\u001b[39mread_csv(csv_file_path)\n\u001b[0;32m     <a href='vscode-notebook-cell:/e%3A/Medical/GPT2-Chest-X-Ray-Report-Generation-master/GPT2-Chest-X-Ray-Report-Generation-master/Metrics.ipynb#W1sZmlsZQ%3D%3D?line=39'>40</a>\u001b[0m \u001b[39m# Calculate average BLEU scores\u001b[39;00m\n\u001b[1;32m---> <a href='vscode-notebook-cell:/e%3A/Medical/GPT2-Chest-X-Ray-Report-Generation-master/GPT2-Chest-X-Ray-Report-Generation-master/Metrics.ipynb#W1sZmlsZQ%3D%3D?line=40'>41</a>\u001b[0m avg_bleu_1, avg_bleu_2, avg_bleu_3, avg_bleu_4 \u001b[39m=\u001b[39m calculate_average_bleu_scores(df)\n\u001b[0;32m     <a href='vscode-notebook-cell:/e%3A/Medical/GPT2-Chest-X-Ray-Report-Generation-master/GPT2-Chest-X-Ray-Report-Generation-master/Metrics.ipynb#W1sZmlsZQ%3D%3D?line=42'>43</a>\u001b[0m \u001b[39m# Print the results\u001b[39;00m\n\u001b[0;32m     <a href='vscode-notebook-cell:/e%3A/Medical/GPT2-Chest-X-Ray-Report-Generation-master/GPT2-Chest-X-Ray-Report-Generation-master/Metrics.ipynb#W1sZmlsZQ%3D%3D?line=43'>44</a>\u001b[0m \u001b[39mprint\u001b[39m(\u001b[39mf\u001b[39m\u001b[39m'\u001b[39m\u001b[39mAverage BLEU-1 Score: \u001b[39m\u001b[39m{\u001b[39;00mavg_bleu_1\u001b[39m}\u001b[39;00m\u001b[39m'\u001b[39m)\n",
      "\u001b[1;32me:\\Medical\\GPT2-Chest-X-Ray-Report-Generation-master\\GPT2-Chest-X-Ray-Report-Generation-master\\Metrics.ipynb Cell 2\u001b[0m line \u001b[0;36m1\n\u001b[0;32m     <a href='vscode-notebook-cell:/e%3A/Medical/GPT2-Chest-X-Ray-Report-Generation-master/GPT2-Chest-X-Ray-Report-Generation-master/Metrics.ipynb#W1sZmlsZQ%3D%3D?line=13'>14</a>\u001b[0m predicted \u001b[39m=\u001b[39m row[\u001b[39m'\u001b[39m\u001b[39mpredicted\u001b[39m\u001b[39m'\u001b[39m]\n\u001b[0;32m     <a href='vscode-notebook-cell:/e%3A/Medical/GPT2-Chest-X-Ray-Report-Generation-master/GPT2-Chest-X-Ray-Report-Generation-master/Metrics.ipynb#W1sZmlsZQ%3D%3D?line=15'>16</a>\u001b[0m \u001b[39m# Calculate BLEU scores for each n-gram order\u001b[39;00m\n\u001b[1;32m---> <a href='vscode-notebook-cell:/e%3A/Medical/GPT2-Chest-X-Ray-Report-Generation-master/GPT2-Chest-X-Ray-Report-Generation-master/Metrics.ipynb#W1sZmlsZQ%3D%3D?line=16'>17</a>\u001b[0m bleu_1 \u001b[39m=\u001b[39m calculate_bleu_scores([actual], [predicted], \u001b[39m1\u001b[39;49m)\n\u001b[0;32m     <a href='vscode-notebook-cell:/e%3A/Medical/GPT2-Chest-X-Ray-Report-Generation-master/GPT2-Chest-X-Ray-Report-Generation-master/Metrics.ipynb#W1sZmlsZQ%3D%3D?line=17'>18</a>\u001b[0m bleu_2 \u001b[39m=\u001b[39m calculate_bleu_scores([actual], [predicted], \u001b[39m2\u001b[39m)\n\u001b[0;32m     <a href='vscode-notebook-cell:/e%3A/Medical/GPT2-Chest-X-Ray-Report-Generation-master/GPT2-Chest-X-Ray-Report-Generation-master/Metrics.ipynb#W1sZmlsZQ%3D%3D?line=18'>19</a>\u001b[0m bleu_3 \u001b[39m=\u001b[39m calculate_bleu_scores([actual], [predicted], \u001b[39m3\u001b[39m)\n",
      "\u001b[1;32me:\\Medical\\GPT2-Chest-X-Ray-Report-Generation-master\\GPT2-Chest-X-Ray-Report-Generation-master\\Metrics.ipynb Cell 2\u001b[0m line \u001b[0;36m4\n\u001b[0;32m      <a href='vscode-notebook-cell:/e%3A/Medical/GPT2-Chest-X-Ray-Report-Generation-master/GPT2-Chest-X-Ray-Report-Generation-master/Metrics.ipynb#W1sZmlsZQ%3D%3D?line=1'>2</a>\u001b[0m references \u001b[39m=\u001b[39m [word_tokenize(ref) \u001b[39mfor\u001b[39;00m ref \u001b[39min\u001b[39;00m actual]\n\u001b[0;32m      <a href='vscode-notebook-cell:/e%3A/Medical/GPT2-Chest-X-Ray-Report-Generation-master/GPT2-Chest-X-Ray-Report-Generation-master/Metrics.ipynb#W1sZmlsZQ%3D%3D?line=2'>3</a>\u001b[0m hypotheses \u001b[39m=\u001b[39m [word_tokenize(hyp) \u001b[39mfor\u001b[39;00m hyp \u001b[39min\u001b[39;00m predicted]\n\u001b[1;32m----> <a href='vscode-notebook-cell:/e%3A/Medical/GPT2-Chest-X-Ray-Report-Generation-master/GPT2-Chest-X-Ray-Report-Generation-master/Metrics.ipynb#W1sZmlsZQ%3D%3D?line=3'>4</a>\u001b[0m \u001b[39mreturn\u001b[39;00m corpus_bleu(references, hypotheses, weights\u001b[39m=\u001b[39;49m(\u001b[39m1.0\u001b[39;49m \u001b[39m/\u001b[39;49m n, ) \u001b[39m*\u001b[39;49m n)\n",
      "File \u001b[1;32mc:\\Python312\\Lib\\site-packages\\nltk\\translate\\bleu_score.py:210\u001b[0m, in \u001b[0;36mcorpus_bleu\u001b[1;34m(list_of_references, hypotheses, weights, smoothing_function, auto_reweigh)\u001b[0m\n\u001b[0;32m    206\u001b[0m \u001b[39mfor\u001b[39;00m references, hypothesis \u001b[39min\u001b[39;00m \u001b[39mzip\u001b[39m(list_of_references, hypotheses):\n\u001b[0;32m    207\u001b[0m     \u001b[39m# For each order of ngram, calculate the numerator and\u001b[39;00m\n\u001b[0;32m    208\u001b[0m     \u001b[39m# denominator for the corpus-level modified precision.\u001b[39;00m\n\u001b[0;32m    209\u001b[0m     \u001b[39mfor\u001b[39;00m i \u001b[39min\u001b[39;00m \u001b[39mrange\u001b[39m(\u001b[39m1\u001b[39m, max_weight_length \u001b[39m+\u001b[39m \u001b[39m1\u001b[39m):\n\u001b[1;32m--> 210\u001b[0m         p_i \u001b[39m=\u001b[39m modified_precision(references, hypothesis, i)\n\u001b[0;32m    211\u001b[0m         p_numerators[i] \u001b[39m+\u001b[39m\u001b[39m=\u001b[39m p_i\u001b[39m.\u001b[39mnumerator\n\u001b[0;32m    212\u001b[0m         p_denominators[i] \u001b[39m+\u001b[39m\u001b[39m=\u001b[39m p_i\u001b[39m.\u001b[39mdenominator\n",
      "File \u001b[1;32mc:\\Python312\\Lib\\site-packages\\nltk\\translate\\bleu_score.py:368\u001b[0m, in \u001b[0;36mmodified_precision\u001b[1;34m(references, hypothesis, n)\u001b[0m\n\u001b[0;32m    364\u001b[0m \u001b[39m# Ensures that denominator is minimum 1 to avoid ZeroDivisionError.\u001b[39;00m\n\u001b[0;32m    365\u001b[0m \u001b[39m# Usually this happens when the ngram order is > len(reference).\u001b[39;00m\n\u001b[0;32m    366\u001b[0m denominator \u001b[39m=\u001b[39m \u001b[39mmax\u001b[39m(\u001b[39m1\u001b[39m, \u001b[39msum\u001b[39m(counts\u001b[39m.\u001b[39mvalues()))\n\u001b[1;32m--> 368\u001b[0m \u001b[39mreturn\u001b[39;00m Fraction(numerator, denominator, _normalize\u001b[39m=\u001b[39;49m\u001b[39mFalse\u001b[39;49;00m)\n",
      "\u001b[1;31mTypeError\u001b[0m: Fraction.__new__() got an unexpected keyword argument '_normalize'"
     ]
    }
   ],
   "source": [
    "\n",
    "\n",
    "def calculate_bleu_scores(actual, predicted):\n",
    "    return sacrebleu.corpus_bleu(predicted, [actual])\n",
    "\n",
    "def calculate_average_bleu_scores(df):\n",
    "    bleu_scores = []\n",
    "\n",
    "    for index, row in df.iterrows():\n",
    "        actual = row['actual']\n",
    "        predicted = row['predicted']\n",
    "\n",
    "        # Calculate BLEU scores\n",
    "        bleu = calculate_bleu_scores(actual, predicted)\n",
    "        bleu_scores.append(bleu.score)\n",
    "\n",
    "    # Calculate average score\n",
    "    avg_bleu = sum(bleu_scores) / len(bleu_scores)\n",
    "\n",
    "    return avg_bleu\n",
    "\n",
    "# Read the CSV file\n",
    "csv_file_path = 'path/to/your/file.csv'\n",
    "df = pd.read_csv(csv_file_path)\n",
    "\n",
    "# Calculate average BLEU score\n",
    "avg_bleu = calculate_average_bleu_scores(df)\n",
    "\n",
    "# Print the result\n",
    "print(f'Average BLEU Score: {avg_bleu}')\n"
   ]
  }
 ],
 "metadata": {
  "kernelspec": {
   "display_name": "Python 3",
   "language": "python",
   "name": "python3"
  },
  "language_info": {
   "codemirror_mode": {
    "name": "ipython",
    "version": 3
   },
   "file_extension": ".py",
   "mimetype": "text/x-python",
   "name": "python",
   "nbconvert_exporter": "python",
   "pygments_lexer": "ipython3",
   "version": "3.12.0"
  }
 },
 "nbformat": 4,
 "nbformat_minor": 2
}
